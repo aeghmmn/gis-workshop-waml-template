{
  "nbformat": 4,
  "nbformat_minor": 0,
  "metadata": {
    "colab": {
      "name": "megtest.ipynb",
      "provenance": [],
      "toc_visible": true,
      "authorship_tag": "ABX9TyPF/Iqu3HCswzVw0xNQmPU/",
      "include_colab_link": true
    },
    "kernelspec": {
      "name": "python3",
      "display_name": "Python 3"
    }
  },
  "cells": [
    {
      "cell_type": "markdown",
      "metadata": {
        "id": "view-in-github",
        "colab_type": "text"
      },
      "source": [
        "<a href=\"https://colab.research.google.com/github/meginwinnipeg/workshops/blob/master/megtest.ipynb\" target=\"_parent\"><img src=\"https://colab.research.google.com/assets/colab-badge.svg\" alt=\"Open In Colab\"/></a>"
      ]
    },
    {
      "cell_type": "markdown",
      "metadata": {
        "id": "WIyHdeHWWiIm"
      },
      "source": [
        "# Meg test  "
      ]
    },
    {
      "cell_type": "markdown",
      "metadata": {
        "id": "0sumTYt1WLWx"
      },
      "source": [
        "Generate a random number between 1 and 17:"
      ]
    },
    {
      "cell_type": "code",
      "metadata": {
        "colab": {
          "base_uri": "https://localhost:8080/"
        },
        "id": "FL-hmqu-WCKO",
        "outputId": "397b5202-5767-43b1-f3a5-471a1fd6be20"
      },
      "source": [
        "import random\r\n",
        "\r\n",
        "print(random.randint(0,17))"
      ],
      "execution_count": 1,
      "outputs": [
        {
          "output_type": "stream",
          "text": [
            "9\n"
          ],
          "name": "stdout"
        }
      ]
    }
  ]
}